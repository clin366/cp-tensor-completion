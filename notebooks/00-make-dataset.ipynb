{
 "cells": [
  {
   "cell_type": "code",
   "execution_count": 1,
   "metadata": {},
   "outputs": [],
   "source": [
    "import click\n",
    "import logging\n",
    "from pathlib import Path\n",
    "import configparser\n",
    "from configparser import ExtendedInterpolation\n",
    "import ast\n",
    "import pandas as pd\n",
    "import sys\n",
    "import os \n",
    "os.chdir(os.path.dirname(os.getcwd()))\n",
    "sys.path.append('.')\n",
    "from src.data.utils import *\n",
    "import pickle"
   ]
  },
  {
   "cell_type": "code",
   "execution_count": 2,
   "metadata": {},
   "outputs": [],
   "source": [
    "config_path = 'config/parameters.ini'"
   ]
  },
  {
   "cell_type": "code",
   "execution_count": 3,
   "metadata": {},
   "outputs": [
    {
     "data": {
      "text/plain": [
       "['config/parameters.ini']"
      ]
     },
     "execution_count": 3,
     "metadata": {},
     "output_type": "execute_result"
    }
   ],
   "source": [
    "# read configuration from config file\n",
    "pars = configparser.ConfigParser(interpolation=ExtendedInterpolation())\n",
    "pars.read(config_path)"
   ]
  },
  {
   "cell_type": "code",
   "execution_count": 4,
   "metadata": {},
   "outputs": [],
   "source": [
    "# start and end dates\n",
    "train_start_date = [int(k) for k in pars['train_test_split']['train_start_date'].split('-')]\n",
    "test_start_date = [int(k) for k in pars['train_test_split']['test_start_date'].split('-')]\n",
    "# seed word list\n",
    "seed_path = pars['global']['seed_query_path']\n",
    "seed_word_list = read_query_from_file(seed_path)\n",
    "# create placeholder df for this seed queries rank\n",
    "placeholder_df = pd.DataFrame(columns=seed_word_list)\n",
    "\n",
    "# read location list from pars\n",
    "location_list = ast.literal_eval(pars['global']['locations'])\n",
    "\n",
    "# input file\n",
    "input_filepath = pars['global']['search_data_path']"
   ]
  },
  {
   "cell_type": "code",
   "execution_count": 5,
   "metadata": {},
   "outputs": [],
   "source": [
    "# use list to store na and sparsity stats\n",
    "na_rate_list = []\n",
    "sparsity_list = []\n",
    "\n",
    "# use list to save train file\n",
    "train_x_list = []\n",
    "train_y_list = []\n"
   ]
  },
  {
   "cell_type": "code",
   "execution_count": 6,
   "metadata": {},
   "outputs": [],
   "source": [
    "location_name = location_list[0]"
   ]
  },
  {
   "cell_type": "code",
   "execution_count": 17,
   "metadata": {},
   "outputs": [
    {
     "data": {
      "text/html": [
       "<div>\n",
       "<style scoped>\n",
       "    .dataframe tbody tr th:only-of-type {\n",
       "        vertical-align: middle;\n",
       "    }\n",
       "\n",
       "    .dataframe tbody tr th {\n",
       "        vertical-align: top;\n",
       "    }\n",
       "\n",
       "    .dataframe thead th {\n",
       "        text-align: right;\n",
       "    }\n",
       "</style>\n",
       "<table border=\"1\" class=\"dataframe\">\n",
       "  <thead>\n",
       "    <tr style=\"text-align: right;\">\n",
       "      <th></th>\n",
       "      <th>california coronavirus</th>\n",
       "      <th>carona virus</th>\n",
       "      <th>caronavirus</th>\n",
       "      <th>cdc corona virus</th>\n",
       "      <th>cdc coronavirus</th>\n",
       "      <th>cdc coronavirus update</th>\n",
       "      <th>chicago coronavirus</th>\n",
       "      <th>china coronavirus</th>\n",
       "      <th>cnn coronavirus</th>\n",
       "      <th>cornavirus</th>\n",
       "      <th>...</th>\n",
       "      <th>the coronavirus</th>\n",
       "      <th>update on coronavirus</th>\n",
       "      <th>us coronavirus</th>\n",
       "      <th>what are the symptoms of the coronavirus</th>\n",
       "      <th>what is coronavirus</th>\n",
       "      <th>what is the coronavirus</th>\n",
       "      <th>where did coronavirus come from</th>\n",
       "      <th>where did the coronavirus come from</th>\n",
       "      <th>who coronavirus</th>\n",
       "      <th>world health organization coronavirus</th>\n",
       "    </tr>\n",
       "  </thead>\n",
       "  <tbody>\n",
       "  </tbody>\n",
       "</table>\n",
       "<p>0 rows × 113 columns</p>\n",
       "</div>"
      ],
      "text/plain": [
       "Empty DataFrame\n",
       "Columns: [california coronavirus, carona virus, caronavirus, cdc corona virus, cdc coronavirus, cdc coronavirus update, chicago coronavirus, china coronavirus, cnn coronavirus, cornavirus, corona virus, corona virus cure, corona virus death toll, corona virus deaths, corona virus in us, corona virus map, corona virus news, corona virus symptoms, corona virus tracker, corona virus update, corona virus updates, corona virus us, corona virus usa, coronavirus, coronavirus california, coronavirus cases, coronavirus cases in us, coronavirus cdc, coronavirus china, coronavirus count, coronavirus cure, coronavirus death, coronavirus death rate, coronavirus death toll, coronavirus deaths, coronavirus hawaii, coronavirus illinois, coronavirus in china, coronavirus in michigan, coronavirus in the us, coronavirus in united states, coronavirus in us, coronavirus in usa, coronavirus incubation period, coronavirus india, coronavirus japan, coronavirus kansas, coronavirus live map, coronavirus map, coronavirus memes, coronavirus mexico, coronavirus mortality rate, coronavirus new york, coronavirus news, coronavirus nj, coronavirus numbers, coronavirus nyc, coronavirus origin, coronavirus outbreak, coronavirus outbreak map, coronavirus pandemic, coronavirus prevention, coronavirus statistics, coronavirus stats, coronavirus symptoms, coronavirus symptoms in humans, coronavirus testing, coronavirus texas, coronavirus tracker, coronavirus treatment, coronavirus united states, coronavirus update, coronavirus update map, coronavirus updates, coronavirus us, coronavirus us cases, coronavirus usa, coronavirus vaccine, coronavirus virginia, coronavirus vs flu, coronavirus washington, coronavirus wiki, coronovirus, coronvirus, cruise ship coronavirus, germany coronavirus, how did the coronavirus start, how does coronavirus spread, how is coronavirus spread, how many people have died from coronavirus, incubation period for coronavirus, japan coronavirus, john hopkins coronavirus, john hopkins coronavirus map, johns hopkins coronavirus, johns hopkins coronavirus map, latest news on coronavirus, latest on coronavirus, novel coronavirus, reddit coronavirus, ...]\n",
       "Index: []\n",
       "\n",
       "[0 rows x 113 columns]"
      ]
     },
     "execution_count": 17,
     "metadata": {},
     "output_type": "execute_result"
    }
   ],
   "source": [
    "placeholder_df"
   ]
  },
  {
   "cell_type": "code",
   "execution_count": 23,
   "metadata": {},
   "outputs": [],
   "source": [
    "location_train_data_path = get_location_output_path(input_filepath, location_name)\n",
    "train_data = read_raw_data(location_train_data_path, add_datetime=True, norm_col=False, date_format='%Y-%m-%d')\n",
    "y, trend_fea = process_data(train_data, seed_word_list, placeholder_df=placeholder_df)\n",
    "# trend_fea = select_days(trend_fea, train_start_date, test_start_date).T\n",
    "# # fill all the nas with np.nan\n",
    "trend_fea.fillna(np.nan, inplace=True)\n",
    "# # convert the dataFrame to numpy array\n",
    "# trend_array = np.array(trend_fea)"
   ]
  },
  {
   "cell_type": "code",
   "execution_count": 28,
   "metadata": {},
   "outputs": [
    {
     "data": {
      "text/html": [
       "<div>\n",
       "<style scoped>\n",
       "    .dataframe tbody tr th:only-of-type {\n",
       "        vertical-align: middle;\n",
       "    }\n",
       "\n",
       "    .dataframe tbody tr th {\n",
       "        vertical-align: top;\n",
       "    }\n",
       "\n",
       "    .dataframe thead th {\n",
       "        text-align: right;\n",
       "    }\n",
       "</style>\n",
       "<table border=\"1\" class=\"dataframe\">\n",
       "  <thead>\n",
       "    <tr style=\"text-align: right;\">\n",
       "      <th></th>\n",
       "      <th>california coronavirus</th>\n",
       "      <th>carona virus</th>\n",
       "      <th>caronavirus</th>\n",
       "      <th>cdc corona virus</th>\n",
       "      <th>cdc coronavirus</th>\n",
       "      <th>cdc coronavirus update</th>\n",
       "      <th>chicago coronavirus</th>\n",
       "      <th>china coronavirus</th>\n",
       "      <th>cnn coronavirus</th>\n",
       "      <th>cornavirus</th>\n",
       "      <th>...</th>\n",
       "      <th>the coronavirus</th>\n",
       "      <th>update on coronavirus</th>\n",
       "      <th>us coronavirus</th>\n",
       "      <th>what are the symptoms of the coronavirus</th>\n",
       "      <th>what is coronavirus</th>\n",
       "      <th>what is the coronavirus</th>\n",
       "      <th>where did coronavirus come from</th>\n",
       "      <th>where did the coronavirus come from</th>\n",
       "      <th>who coronavirus</th>\n",
       "      <th>world health organization coronavirus</th>\n",
       "    </tr>\n",
       "  </thead>\n",
       "  <tbody>\n",
       "  </tbody>\n",
       "</table>\n",
       "<p>0 rows × 113 columns</p>\n",
       "</div>"
      ],
      "text/plain": [
       "Empty DataFrame\n",
       "Columns: [california coronavirus, carona virus, caronavirus, cdc corona virus, cdc coronavirus, cdc coronavirus update, chicago coronavirus, china coronavirus, cnn coronavirus, cornavirus, corona virus, corona virus cure, corona virus death toll, corona virus deaths, corona virus in us, corona virus map, corona virus news, corona virus symptoms, corona virus tracker, corona virus update, corona virus updates, corona virus us, corona virus usa, coronavirus, coronavirus california, coronavirus cases, coronavirus cases in us, coronavirus cdc, coronavirus china, coronavirus count, coronavirus cure, coronavirus death, coronavirus death rate, coronavirus death toll, coronavirus deaths, coronavirus hawaii, coronavirus illinois, coronavirus in china, coronavirus in michigan, coronavirus in the us, coronavirus in united states, coronavirus in us, coronavirus in usa, coronavirus incubation period, coronavirus india, coronavirus japan, coronavirus kansas, coronavirus live map, coronavirus map, coronavirus memes, coronavirus mexico, coronavirus mortality rate, coronavirus new york, coronavirus news, coronavirus nj, coronavirus numbers, coronavirus nyc, coronavirus origin, coronavirus outbreak, coronavirus outbreak map, coronavirus pandemic, coronavirus prevention, coronavirus statistics, coronavirus stats, coronavirus symptoms, coronavirus symptoms in humans, coronavirus testing, coronavirus texas, coronavirus tracker, coronavirus treatment, coronavirus united states, coronavirus update, coronavirus update map, coronavirus updates, coronavirus us, coronavirus us cases, coronavirus usa, coronavirus vaccine, coronavirus virginia, coronavirus vs flu, coronavirus washington, coronavirus wiki, coronovirus, coronvirus, cruise ship coronavirus, germany coronavirus, how did the coronavirus start, how does coronavirus spread, how is coronavirus spread, how many people have died from coronavirus, incubation period for coronavirus, japan coronavirus, john hopkins coronavirus, john hopkins coronavirus map, johns hopkins coronavirus, johns hopkins coronavirus map, latest news on coronavirus, latest on coronavirus, novel coronavirus, reddit coronavirus, ...]\n",
       "Index: []\n",
       "\n",
       "[0 rows x 113 columns]"
      ]
     },
     "execution_count": 28,
     "metadata": {},
     "output_type": "execute_result"
    }
   ],
   "source": [
    "placeholder_df"
   ]
  },
  {
   "cell_type": "code",
   "execution_count": 25,
   "metadata": {},
   "outputs": [],
   "source": [
    "trend_fea = select_days(trend_fea, train_start_date, test_start_date).T"
   ]
  },
  {
   "cell_type": "code",
   "execution_count": 29,
   "metadata": {},
   "outputs": [],
   "source": [
    "trend_fea.fillna(np.nan, inplace=True)"
   ]
  },
  {
   "cell_type": "code",
   "execution_count": 30,
   "metadata": {},
   "outputs": [],
   "source": [
    "trend_array = np.array(trend_fea)"
   ]
  },
  {
   "cell_type": "code",
   "execution_count": 31,
   "metadata": {},
   "outputs": [
    {
     "data": {
      "text/plain": [
       "(113, 100)"
      ]
     },
     "execution_count": 31,
     "metadata": {},
     "output_type": "execute_result"
    }
   ],
   "source": [
    "trend_array"
   ]
  },
  {
   "cell_type": "code",
   "execution_count": 12,
   "metadata": {},
   "outputs": [
    {
     "data": {
      "text/plain": [
       "(102, 12)"
      ]
     },
     "execution_count": 12,
     "metadata": {},
     "output_type": "execute_result"
    }
   ],
   "source": [
    "train_data.shape"
   ]
  },
  {
   "cell_type": "code",
   "execution_count": null,
   "metadata": {},
   "outputs": [],
   "source": [
    "location_train_data_path"
   ]
  },
  {
   "cell_type": "code",
   "execution_count": 14,
   "metadata": {},
   "outputs": [
    {
     "data": {
      "text/plain": [
       "(102, 12)"
      ]
     },
     "execution_count": 14,
     "metadata": {},
     "output_type": "execute_result"
    }
   ],
   "source": [
    "train_data.shape"
   ]
  },
  {
   "cell_type": "code",
   "execution_count": null,
   "metadata": {},
   "outputs": [],
   "source": [
    "trend_array.shape"
   ]
  },
  {
   "cell_type": "code",
   "execution_count": null,
   "metadata": {},
   "outputs": [],
   "source": []
  }
 ],
 "metadata": {
  "kernelspec": {
   "display_name": "Python [conda env:airpol]",
   "language": "python",
   "name": "conda-env-airpol-py"
  },
  "language_info": {
   "codemirror_mode": {
    "name": "ipython",
    "version": 3
   },
   "file_extension": ".py",
   "mimetype": "text/x-python",
   "name": "python",
   "nbconvert_exporter": "python",
   "pygments_lexer": "ipython3",
   "version": "3.6.10"
  }
 },
 "nbformat": 4,
 "nbformat_minor": 4
}
