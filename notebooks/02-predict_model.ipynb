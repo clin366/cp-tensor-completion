{
 "cells": [
  {
   "cell_type": "code",
   "execution_count": 1,
   "metadata": {},
   "outputs": [
    {
     "data": {
      "text/plain": [
       "['config/parameters.ini']"
      ]
     },
     "execution_count": 1,
     "metadata": {},
     "output_type": "execute_result"
    }
   ],
   "source": [
    "import os\n",
    "PROJ_ROOT = os.path.abspath(os.path.join(os.pardir))\n",
    "os.chdir(PROJ_ROOT)\n",
    "import configparser\n",
    "from configparser import ExtendedInterpolation\n",
    "config_path = 'config/parameters.ini'\n",
    "# read configuration from config file\n",
    "pars = configparser.ConfigParser(interpolation=ExtendedInterpolation())\n",
    "pars.read(config_path)"
   ]
  },
  {
   "cell_type": "code",
   "execution_count": 2,
   "metadata": {},
   "outputs": [],
   "source": [
    "import pickle\n",
    "imputed_save_path = 'data/external/imputed_tensor_array.pkl'\n",
    "with open(imputed_save_path, 'rb') as fi:\n",
    "    imputed_tensor_array = pickle.load(fi)\n",
    "    "
   ]
  },
  {
   "cell_type": "code",
   "execution_count": 3,
   "metadata": {},
   "outputs": [],
   "source": [
    "from src.data.utils import read_query_from_file"
   ]
  },
  {
   "cell_type": "code",
   "execution_count": 5,
   "metadata": {},
   "outputs": [],
   "source": [
    "import pandas as pd"
   ]
  },
  {
   "cell_type": "code",
   "execution_count": 21,
   "metadata": {},
   "outputs": [],
   "source": [
    "import numpy as np"
   ]
  },
  {
   "cell_type": "code",
   "execution_count": 19,
   "metadata": {},
   "outputs": [],
   "source": [
    "# start and end dates\n",
    "train_start_date = [int(k) for k in pars['train_test_split']['train_start_date'].split('-')]\n",
    "test_start_date = [int(k) for k in pars['train_test_split']['test_start_date'].split('-')]\n"
   ]
  },
  {
   "cell_type": "code",
   "execution_count": 6,
   "metadata": {},
   "outputs": [],
   "source": [
    "seed_path = pars['global']['seed_query_path']\n",
    "seed_word_list = read_query_from_file(seed_path)\n",
    "# create placeholder df for this seed queries rank\n",
    "placeholder_df = pd.DataFrame(columns=seed_word_list)\n"
   ]
  },
  {
   "cell_type": "code",
   "execution_count": 8,
   "metadata": {},
   "outputs": [],
   "source": [
    "import ast\n",
    "# read location list from pars\n",
    "location_list = ast.literal_eval(pars['global']['locations'])"
   ]
  },
  {
   "cell_type": "code",
   "execution_count": 9,
   "metadata": {},
   "outputs": [],
   "source": [
    "input_file_folder = '/Volumes/Samsung_T5/macPro-D/research/covid_bing_query_model_/data/external/search.csv'\n",
    "\n"
   ]
  },
  {
   "cell_type": "code",
   "execution_count": 16,
   "metadata": {},
   "outputs": [],
   "source": [
    "from src.data.utils import get_location_output_path,\\\n",
    "    read_raw_data, process_data, select_days, read_raw_data"
   ]
  },
  {
   "cell_type": "code",
   "execution_count": 23,
   "metadata": {},
   "outputs": [],
   "source": [
    "output_file_folder = 'data/processed/search.csv'"
   ]
  },
  {
   "cell_type": "code",
   "execution_count": 24,
   "metadata": {},
   "outputs": [],
   "source": [
    "state_count = 0 \n",
    "for location_name in location_list:\n",
    "    location_train_data_path = get_location_output_path(input_file_folder, location_name)\n",
    "    train_data = read_raw_data(location_train_data_path, add_datetime=True, norm_col=False, date_format='%Y-%m-%d')\n",
    "    y, trend_fea = process_data(train_data, seed_word_list, placeholder_df=placeholder_df)\n",
    "    trend_fea = select_days(trend_fea, train_start_date, test_start_date)\n",
    "    \n",
    "    # state save path \n",
    "    location_save_data_path = get_location_output_path(output_file_folder, location_name)\n",
    "    # fill nas \n",
    "    trend_fea_array = trend_fea.fillna(np.nan)\n",
    "    trend_fea_array = np.array(trend_fea_array).T\n",
    "    na_pos = np.where(np.isnan(trend_fea_array))\n",
    "    \n",
    "    # fill na \n",
    "    city_imputed_array = imputed_tensor_array[state_count]\n",
    "    \n",
    "    trend_fea_array[na_pos] = city_imputed_array[na_pos]\n",
    "    city_imputed_pd = pd.DataFrame(columns = trend_fea.columns, data = trend_fea_array.T)\n",
    "    city_imputed_pd.index = trend_fea.index\n",
    "    city_imputed_pd.to_csv(location_save_data_path, header = True, index = True)\n",
    "    state_count += 1    "
   ]
  },
  {
   "cell_type": "code",
   "execution_count": null,
   "metadata": {},
   "outputs": [],
   "source": []
  },
  {
   "cell_type": "code",
   "execution_count": null,
   "metadata": {},
   "outputs": [],
   "source": []
  }
 ],
 "metadata": {
  "kernelspec": {
   "display_name": "Python [conda env:airpol]",
   "language": "python",
   "name": "conda-env-airpol-py"
  },
  "language_info": {
   "codemirror_mode": {
    "name": "ipython",
    "version": 3
   },
   "file_extension": ".py",
   "mimetype": "text/x-python",
   "name": "python",
   "nbconvert_exporter": "python",
   "pygments_lexer": "ipython3",
   "version": "3.6.10"
  }
 },
 "nbformat": 4,
 "nbformat_minor": 4
}
